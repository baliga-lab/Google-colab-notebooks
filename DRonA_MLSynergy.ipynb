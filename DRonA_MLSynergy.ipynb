{
  "nbformat": 4,
  "nbformat_minor": 0,
  "metadata": {
    "colab": {
      "name": "DRonA & MLSynergy notebook",
      "provenance": [],
      "collapsed_sections": [],
      "include_colab_link": true
    },
    "kernelspec": {
      "name": "python3",
      "display_name": "Python 3"
    },
    "language_info": {
      "name": "python"
    }
  },
  "cells": [
    {
      "cell_type": "markdown",
      "metadata": {
        "id": "view-in-github",
        "colab_type": "text"
      },
      "source": [
        "<a href=\"https://colab.research.google.com/github/baliga-lab/Google-colab-notebooks/blob/master/DRonA_MLSynergy.ipynb\" target=\"_parent\"><img src=\"https://colab.research.google.com/assets/colab-badge.svg\" alt=\"Open In Colab\"/></a>"
      ]
    },
    {
      "cell_type": "markdown",
      "metadata": {
        "id": "KOpnjbV6igmR"
      },
      "source": [
        "# Transcriptome signature of cell viability predicts drug response and drug interaction for tuberculosis\n",
        "\n",
        "Authors:  Vivek Srinivas, Rene A. Ruiz, Min Pan, Selva Rupa Christinal Immanuel, Eliza J.R. Peterson, Nitin S. Baliga*\n",
        "\n",
        "*** lead contact**: Nitin S. Baliga: nitin.baliga@isbscience.org \n",
        "\n",
        "**doi**: https://doi.org/10.1101/2021.02.09.430468\n"
      ]
    },
    {
      "cell_type": "markdown",
      "metadata": {
        "id": "yItuZb-6dTKr"
      },
      "source": [
        "This is an implementation of DRonA and MLSynergy algorithm in Google Colab server.\n",
        "\n",
        "Users require a Google account to run this. \n",
        "\n",
        "For source code and more information on the DRonA and MLSynergy algorithms visit the [GitHub](https://github.com/baliga-lab/DRonA_MLSynergy.git) page. "
      ]
    },
    {
      "cell_type": "code",
      "metadata": {
        "id": "s8tXhybpCGb7"
      },
      "source": [
        "#!/usr/bin/python3"
      ],
      "execution_count": null,
      "outputs": []
    },
    {
      "cell_type": "markdown",
      "metadata": {
        "id": "pHcM2r0wjJ_5"
      },
      "source": [
        "### Importing DRonA and MLSynergy files form GitHub"
      ]
    },
    {
      "cell_type": "code",
      "metadata": {
        "id": "wtJk3R7AWT46"
      },
      "source": [
        "!rm -rf DRonA_MLSynergy/\n",
        "!git clone https://github.com/baliga-lab/DRonA_MLSynergy.git"
      ],
      "execution_count": null,
      "outputs": []
    },
    {
      "cell_type": "markdown",
      "metadata": {
        "id": "t_sxROHFCXnD"
      },
      "source": [
        "# Installing requirements for running DRonA and MLSynergy"
      ]
    },
    {
      "cell_type": "code",
      "metadata": {
        "id": "4vS-9nKwCU-N"
      },
      "source": [
        "!pip install scikit-learn==0.23.2"
      ],
      "execution_count": null,
      "outputs": []
    },
    {
      "cell_type": "markdown",
      "metadata": {
        "id": "s2HhJ12ojdiu"
      },
      "source": [
        "## DRonA"
      ]
    },
    {
      "cell_type": "code",
      "metadata": {
        "id": "4pSy9sE1bjoC"
      },
      "source": [
        "! python DRonA_MLSynergy/Version_1.1/DRonA.py -- help"
      ],
      "execution_count": null,
      "outputs": []
    },
    {
      "cell_type": "markdown",
      "metadata": {
        "id": "ZXGLM3x_jizU"
      },
      "source": [
        "### Training DRonA"
      ]
    },
    {
      "cell_type": "code",
      "metadata": {
        "id": "WCWf4KuYXnNL"
      },
      "source": [
        "! python DRonA_MLSynergy/Version_1.1/DRonA.py -c Train -m DRonA_MLSynergy/Version_1.1/Training_data/GEO_metadata_for_DRonA.csv -d DRonA_MLSynergy/Version_1.1/Training_data/GEO_data_for_DRonA.csv -o New_model_Aug_10_2021"
      ],
      "execution_count": null,
      "outputs": []
    },
    {
      "cell_type": "markdown",
      "metadata": {
        "id": "vaCm0HgzjlWZ"
      },
      "source": [
        "### Predicting drug response with DRonA"
      ]
    },
    {
      "cell_type": "code",
      "metadata": {
        "id": "PnL-3KLTcDhG"
      },
      "source": [
        "! python DRonA_MLSynergy/Version_1.1/DRonA.py -c Score -f /content/DRonA_MLSynergy/Version_1.1/DRonA_trained_models/MTB_2020 -m DRonA_MLSynergy/Version_1.1/Single_drug_treatments/Single_drug_treatments_metadata.csv -d DRonA_MLSynergy/Version_1.1/Single_drug_treatments/Single_drug_treatments_data.csv"
      ],
      "execution_count": null,
      "outputs": []
    },
    {
      "cell_type": "markdown",
      "metadata": {
        "id": "3uYf8MFdEeW8"
      },
      "source": [
        "### View predictions"
      ]
    },
    {
      "cell_type": "code",
      "metadata": {
        "id": "M47rE2AQZKqB"
      },
      "source": [
        "import pandas as pd"
      ],
      "execution_count": null,
      "outputs": []
    },
    {
      "cell_type": "code",
      "metadata": {
        "id": "LhiV7gDzZRkb"
      },
      "source": [
        "scores = pd.read_csv(\"DRonA_MLSynergy/Version_1.1/Single_drug_treatments/Single_drug_treatments_metadata_scored.csv\")"
      ],
      "execution_count": null,
      "outputs": []
    },
    {
      "cell_type": "code",
      "metadata": {
        "id": "7UFlQblqbllu"
      },
      "source": [
        "scores"
      ],
      "execution_count": null,
      "outputs": []
    },
    {
      "cell_type": "markdown",
      "metadata": {
        "id": "Em25sbENjvz2"
      },
      "source": [
        "### Plotting DRonA predictions"
      ]
    },
    {
      "cell_type": "code",
      "metadata": {
        "id": "yDGLhFrjFGPG"
      },
      "source": [
        "import seaborn as sns\n",
        "from matplotlib import pyplot as plt"
      ],
      "execution_count": null,
      "outputs": []
    },
    {
      "cell_type": "code",
      "metadata": {
        "id": "meFYIOpobZMf"
      },
      "source": [
        "scores_72 = scores[scores[\"Treatment time (hrs)\"].isin([0,72])]"
      ],
      "execution_count": null,
      "outputs": []
    },
    {
      "cell_type": "code",
      "metadata": {
        "id": "LKwZUJebZZuo"
      },
      "source": [
        "sns.color_palette(\"rocket\", as_cmap=True)\n",
        "ax = sns.stripplot(x=\"Drug\",y=\"CVS\",hue=\"Concentration\",data=scores_72,palette=\"rocket\")\n",
        "plt.legend(bbox_to_anchor=(1.05, 1), loc=2, borderaxespad=0.)"
      ],
      "execution_count": null,
      "outputs": []
    },
    {
      "cell_type": "markdown",
      "metadata": {
        "id": "2qQZiipWhaog"
      },
      "source": [
        "## MLSynergy"
      ]
    },
    {
      "cell_type": "code",
      "metadata": {
        "id": "DV0Te7B1hWqE"
      },
      "source": [
        "! python DRonA_MLSynergy/Version_1.1/MLSynergy.py -- help"
      ],
      "execution_count": null,
      "outputs": []
    },
    {
      "cell_type": "markdown",
      "metadata": {
        "id": "rJnOLA_Hhlp_"
      },
      "source": [
        "### Preparing transcritome combinations of single drug treatment"
      ]
    },
    {
      "cell_type": "code",
      "metadata": {
        "id": "E8jC0GVXd0xA"
      },
      "source": [
        "! python DRonA_MLSynergy/Version_1.1/MLSynergy.py -c Make_combinations -m DRonA_MLSynergy/Version_1.1/Drug_synergy_prediction/SDTs_used_for_predicting_drug_synergy.csv -o Drug_combinations_2021.csv"
      ],
      "execution_count": null,
      "outputs": []
    },
    {
      "cell_type": "markdown",
      "metadata": {
        "id": "QTD5-JwQhxcB"
      },
      "source": [
        "### Predicting drug interactions with MLSynergy"
      ]
    },
    {
      "cell_type": "code",
      "metadata": {
        "id": "htSvbdz_eHEl"
      },
      "source": [
        "! python DRonA_MLSynergy/Version_1.1/MLSynergy.py -c Score_combinations -f DRonA_MLSynergy/Version_1.1/DRonA_trained_models/MTB_2020 -m DRonA_MLSynergy/Version_1.1/Single_drug_treatments/Single_drug_treatments_metadata.csv -d DRonA_MLSynergy/Version_1.1/Single_drug_treatments/Single_drug_treatments_data.csv -p /content/Drug_combinations_2021.csv -u Yes"
      ],
      "execution_count": null,
      "outputs": []
    },
    {
      "cell_type": "markdown",
      "metadata": {
        "id": "-yF3MG0EFLdj"
      },
      "source": [
        "### View Predictions"
      ]
    },
    {
      "cell_type": "code",
      "metadata": {
        "id": "02QUpOKFFKvR"
      },
      "source": [
        "interactions = pd.read.csv(\"/content/Drug_combinations_2021_predicted.csv\",index_col=0)"
      ],
      "execution_count": null,
      "outputs": []
    },
    {
      "cell_type": "code",
      "metadata": {
        "id": "K2BgQLTXFj3t"
      },
      "source": [
        "interactions"
      ],
      "execution_count": null,
      "outputs": []
    },
    {
      "cell_type": "markdown",
      "metadata": {
        "id": "blR0QMRkF3Xz"
      },
      "source": [
        "### View the MLSynergy generated chordplot of predictions for 2 drug interactions"
      ]
    },
    {
      "cell_type": "markdown",
      "metadata": {
        "id": "g2bVOetBIZeg"
      },
      "source": [
        "Download the .html file of the chordplot which is generated after running MLSynergy with **-c Score_combinations** and **-u Yes** as parameters. View the chordplot in any web browser. "
      ]
    }
  ]
}