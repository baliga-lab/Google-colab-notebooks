{
  "nbformat": 4,
  "nbformat_minor": 0,
  "metadata": {
    "colab": {
      "name": "Scanlag_colab_implementation",
      "provenance": [],
      "collapsed_sections": [],
      "mount_file_id": "1eMPAAj28j6uhi1kU_UVS3oW2lbnTWbtL",
      "authorship_tag": "ABX9TyMTPWZgGnDLjlZ6/8PvmRJf",
      "include_colab_link": true
    },
    "kernelspec": {
      "name": "python3",
      "display_name": "Python 3"
    },
    "language_info": {
      "name": "python"
    }
  },
  "cells": [
    {
      "cell_type": "markdown",
      "metadata": {
        "id": "view-in-github",
        "colab_type": "text"
      },
      "source": [
        "<a href=\"https://colab.research.google.com/github/baliga-lab/Google-colab-notebooks/blob/master/Scanlag_colab_implementation.ipynb\" target=\"_parent\"><img src=\"https://colab.research.google.com/assets/colab-badge.svg\" alt=\"Open In Colab\"/></a>"
      ]
    },
    {
      "cell_type": "code",
      "metadata": {
        "id": "p6Ae9m7-XFvY"
      },
      "source": [
        "# A program to analyze scanlag images"
      ],
      "execution_count": 1,
      "outputs": []
    },
    {
      "cell_type": "code",
      "metadata": {
        "id": "6lsio7MlXra1",
        "colab": {
          "base_uri": "https://localhost:8080/"
        },
        "outputId": "6b79765a-257f-420f-ebe0-440fa41394fe"
      },
      "source": [
        "!rm -rf Scanlag/\n",
        "! git clone https://github.com/baliga-lab/Scanlag.git"
      ],
      "execution_count": null,
      "outputs": [
        {
          "output_type": "stream",
          "name": "stdout",
          "text": [
            "Cloning into 'Scanlag'...\n",
            "remote: Enumerating objects: 31, done.\u001b[K\n",
            "remote: Counting objects: 100% (31/31), done.\u001b[K\n",
            "remote: Compressing objects: 100% (29/29), done.\u001b[K\n",
            "remote: Total 31 (delta 15), reused 4 (delta 0), pack-reused 0\u001b[K\n",
            "Unpacking objects: 100% (31/31), done.\n"
          ]
        }
      ]
    },
    {
      "cell_type": "code",
      "source": [
        "from Scanlag import scanlag_analyzer as sa"
      ],
      "metadata": {
        "id": "kYkbJhTs4tLC"
      },
      "execution_count": null,
      "outputs": []
    },
    {
      "cell_type": "code",
      "source": [
        "# Import folders from google drive\n",
        "# The data should be in the users account. If not, upload the data.\n",
        "\n",
        "from google.colab import drive\n",
        "drive.mount('/content/drive/')"
      ],
      "metadata": {
        "colab": {
          "base_uri": "https://localhost:8080/"
        },
        "id": "cUXaNCGs5uw9",
        "outputId": "6e1175be-aae9-4959-e3c1-25aa4f866a30"
      },
      "execution_count": null,
      "outputs": [
        {
          "output_type": "stream",
          "name": "stdout",
          "text": [
            "Drive already mounted at /content/drive/; to attempt to forcibly remount, call drive.mount(\"/content/drive/\", force_remount=True).\n"
          ]
        }
      ]
    },
    {
      "cell_type": "code",
      "source": [
        "# Folders with scanlag images\n",
        "analysis_dir = \"/content/drive/MyDrive/Scanlag_analysis/Vivek_scanlag_analysis/CEE_scanlag_analysis\"\n",
        "scanned_images = \"/content/drive/MyDrive/Scanlag_analysis/Vivek_scanlag_analysis/CEE_Amy/Amy_Scanlag_CEE6_line1_031020\""
      ],
      "metadata": {
        "id": "ATRLOx9x9KmK"
      },
      "execution_count": null,
      "outputs": []
    },
    {
      "cell_type": "code",
      "source": [
        "# Initite analysis\n",
        "output_dir = sa.inittiate_analysis(analysis_dir,scanned_images)\n",
        "#output_dir = \"/content/drive/MyDrive/Scanlag_analysis/Vivek_scanlag_analysis/Evolution_of_LLR\""
      ],
      "metadata": {
        "id": "5LNSyvt9BJSa"
      },
      "execution_count": null,
      "outputs": []
    },
    {
      "cell_type": "code",
      "source": [
        "print(output_dir)"
      ],
      "metadata": {
        "colab": {
          "base_uri": "https://localhost:8080/"
        },
        "id": "ma1zLekaKw5V",
        "outputId": "26aea768-2bb2-4c32-d014-5d975a82795e"
      },
      "execution_count": null,
      "outputs": [
        {
          "output_type": "stream",
          "name": "stdout",
          "text": [
            "/content/drive/MyDrive/Scanlag_analysis/Vivek_scanlag_analysis/CEE_scanlag_analysis/Amy_Scanlag_CEE6_line1_031020\n"
          ]
        }
      ]
    },
    {
      "cell_type": "code",
      "source": [
        "# Identify plates\n",
        "\n",
        "plate_pos = sa.find_plates(output_dir,scanned_images)"
      ],
      "metadata": {
        "id": "m43v0tPK5rFU"
      },
      "execution_count": null,
      "outputs": []
    },
    {
      "cell_type": "markdown",
      "source": [
        "*   Examine the annotatted image. Plates that are not identified should be added manually. This can be done using ImageJ program. plate locations should be added as - \n",
        "  `plate_pos[\"n\"]: [x,y,550]` ; where, \n",
        "  n: plate number, x&y: x,y co-ordinates of the center of plates found with ImageJ. \n",
        "*   Name the plates by examining the annotated scan image\n",
        "\n"
      ],
      "metadata": {
        "id": "2nrs4d6tTV8S"
      }
    },
    {
      "cell_type": "code",
      "source": [
        "# Name plates\n",
        "\n",
        "plate_names = {\"1\":\"L1C2\",\"2\":\"L1C4\",\"3\":\"L1C1\",\"4\":\"Msm\",\"5\":\"L1C3\"}#Do use space, pound sign (#) or underscores (_) in names"
      ],
      "metadata": {
        "id": "4zUmTWnCB0EY"
      },
      "execution_count": null,
      "outputs": []
    },
    {
      "cell_type": "code",
      "source": [
        "# Crop plates\n",
        "\n",
        "cropped_plates, max_times = sa.crop_plates(scanned_images,output_dir,plate_pos,plate_names)"
      ],
      "metadata": {
        "id": "QzJUllZOKRAW"
      },
      "execution_count": null,
      "outputs": []
    },
    {
      "cell_type": "code",
      "source": [
        "print(cropped_plates)\n",
        "print(max_times)"
      ],
      "metadata": {
        "colab": {
          "base_uri": "https://localhost:8080/"
        },
        "id": "ohR8LAI-k7Cn",
        "outputId": "8769f252-26e9-43b8-dfd9-4b2501b62484"
      },
      "execution_count": null,
      "outputs": [
        {
          "output_type": "stream",
          "name": "stdout",
          "text": [
            "/content/drive/MyDrive/Scanlag_analysis/Vivek_scanlag_analysis/CEE_scanlag_analysis/Amy_Scanlag_CEE6_line1_031020/cropped_images\n",
            "[2743, 2743, 2743, 2743, 2743]\n"
          ]
        }
      ]
    },
    {
      "cell_type": "code",
      "source": [
        "#cropped_plates = \"/content/drive/MyDrive/Scanlag_analysis/Vivek_scanlag_analysis/Evolution_of_LLR/Cropped_images\"\n",
        "plates_to_analyze = [\"L1C1\",\"L1C2\",\"L1C3\",\"L1C4\",\"Msm\"]\n",
        "max_times = [1767,1524,1828,1646,1646]"
      ],
      "metadata": {
        "id": "tnU3MkY-jxKI"
      },
      "execution_count": null,
      "outputs": []
    },
    {
      "cell_type": "code",
      "source": [
        "# Define parameters\n",
        "\n",
        "size = [100,700] #This is the range of colony sizes that is allowed.\\\n",
        "                  #Decrease if upper bound if doublets are identified as colonies.\\\n",
        "                  #Increase if lower bound if anamolies such as bubbles and shadows are identified as CFUs.\n",
        "\n",
        "#plates_to_analyze = [i for i in plate_names.values() if i not in [\"#\"]]#This can be changed to skip plates \n",
        "\n",
        "times_to_annotate = max_times #Time list are the times from which images are used to identify CFUs, \\\n",
        "                             #maximum times are used as a default \\\n",
        "                             #it can be reduced if the CFUs are overgrown and are overlapping each other.\n",
        "\n",
        "\n",
        "growth = sa.get_growth(cropped_plates,plates_to_analyze,times_to_annotate,size,output_dir)\n",
        "growth_normalized_to_spots = sa.normalize_to_spots(growth)"
      ],
      "metadata": {
        "id": "igZuTbnvM1UK"
      },
      "execution_count": null,
      "outputs": []
    },
    {
      "cell_type": "code",
      "source": [
        "growth_normalized_to_spots.to_csv(output_dir+\"/Growth_normalized.csv\")"
      ],
      "metadata": {
        "id": "xXSWYiIixf6N"
      },
      "execution_count": null,
      "outputs": []
    },
    {
      "cell_type": "code",
      "source": [
        "growth_normalized_to_spots.head()"
      ],
      "metadata": {
        "colab": {
          "base_uri": "https://localhost:8080/",
          "height": 206
        },
        "id": "yCIS_WfzcWpC",
        "outputId": "ffd9b2da-5b4c-4e67-add4-b3541bd77d20"
      },
      "execution_count": null,
      "outputs": [
        {
          "output_type": "execute_result",
          "data": {
            "text/plain": [
              "            Cell_type    Time    Spot   Spot_loc   Growth  Growth_normalized\n",
              "L1C1_0_1828      L1C1  1828.0  L1C1_0   6_871_12  36458.0             9684.0\n",
              "L1C1_1_1828      L1C1  1828.0  L1C1_1   2_717_11  14384.0             3963.0\n",
              "L1C1_2_1828      L1C1  1828.0  L1C1_2    2_650_8  11017.0             2492.0\n",
              "L1C1_3_1828      L1C1  1828.0  L1C1_3  12_503_13  44340.0            10927.0\n",
              "L1C1_4_1828      L1C1  1828.0  L1C1_4   2_369_17  39952.0             9472.0"
            ],
            "text/html": [
              "\n",
              "  <div id=\"df-02d71bf0-cc40-4114-b0cf-81cd095ca67a\">\n",
              "    <div class=\"colab-df-container\">\n",
              "      <div>\n",
              "<style scoped>\n",
              "    .dataframe tbody tr th:only-of-type {\n",
              "        vertical-align: middle;\n",
              "    }\n",
              "\n",
              "    .dataframe tbody tr th {\n",
              "        vertical-align: top;\n",
              "    }\n",
              "\n",
              "    .dataframe thead th {\n",
              "        text-align: right;\n",
              "    }\n",
              "</style>\n",
              "<table border=\"1\" class=\"dataframe\">\n",
              "  <thead>\n",
              "    <tr style=\"text-align: right;\">\n",
              "      <th></th>\n",
              "      <th>Cell_type</th>\n",
              "      <th>Time</th>\n",
              "      <th>Spot</th>\n",
              "      <th>Spot_loc</th>\n",
              "      <th>Growth</th>\n",
              "      <th>Growth_normalized</th>\n",
              "    </tr>\n",
              "  </thead>\n",
              "  <tbody>\n",
              "    <tr>\n",
              "      <th>L1C1_0_1828</th>\n",
              "      <td>L1C1</td>\n",
              "      <td>1828.0</td>\n",
              "      <td>L1C1_0</td>\n",
              "      <td>6_871_12</td>\n",
              "      <td>36458.0</td>\n",
              "      <td>9684.0</td>\n",
              "    </tr>\n",
              "    <tr>\n",
              "      <th>L1C1_1_1828</th>\n",
              "      <td>L1C1</td>\n",
              "      <td>1828.0</td>\n",
              "      <td>L1C1_1</td>\n",
              "      <td>2_717_11</td>\n",
              "      <td>14384.0</td>\n",
              "      <td>3963.0</td>\n",
              "    </tr>\n",
              "    <tr>\n",
              "      <th>L1C1_2_1828</th>\n",
              "      <td>L1C1</td>\n",
              "      <td>1828.0</td>\n",
              "      <td>L1C1_2</td>\n",
              "      <td>2_650_8</td>\n",
              "      <td>11017.0</td>\n",
              "      <td>2492.0</td>\n",
              "    </tr>\n",
              "    <tr>\n",
              "      <th>L1C1_3_1828</th>\n",
              "      <td>L1C1</td>\n",
              "      <td>1828.0</td>\n",
              "      <td>L1C1_3</td>\n",
              "      <td>12_503_13</td>\n",
              "      <td>44340.0</td>\n",
              "      <td>10927.0</td>\n",
              "    </tr>\n",
              "    <tr>\n",
              "      <th>L1C1_4_1828</th>\n",
              "      <td>L1C1</td>\n",
              "      <td>1828.0</td>\n",
              "      <td>L1C1_4</td>\n",
              "      <td>2_369_17</td>\n",
              "      <td>39952.0</td>\n",
              "      <td>9472.0</td>\n",
              "    </tr>\n",
              "  </tbody>\n",
              "</table>\n",
              "</div>\n",
              "      <button class=\"colab-df-convert\" onclick=\"convertToInteractive('df-02d71bf0-cc40-4114-b0cf-81cd095ca67a')\"\n",
              "              title=\"Convert this dataframe to an interactive table.\"\n",
              "              style=\"display:none;\">\n",
              "        \n",
              "  <svg xmlns=\"http://www.w3.org/2000/svg\" height=\"24px\"viewBox=\"0 0 24 24\"\n",
              "       width=\"24px\">\n",
              "    <path d=\"M0 0h24v24H0V0z\" fill=\"none\"/>\n",
              "    <path d=\"M18.56 5.44l.94 2.06.94-2.06 2.06-.94-2.06-.94-.94-2.06-.94 2.06-2.06.94zm-11 1L8.5 8.5l.94-2.06 2.06-.94-2.06-.94L8.5 2.5l-.94 2.06-2.06.94zm10 10l.94 2.06.94-2.06 2.06-.94-2.06-.94-.94-2.06-.94 2.06-2.06.94z\"/><path d=\"M17.41 7.96l-1.37-1.37c-.4-.4-.92-.59-1.43-.59-.52 0-1.04.2-1.43.59L10.3 9.45l-7.72 7.72c-.78.78-.78 2.05 0 2.83L4 21.41c.39.39.9.59 1.41.59.51 0 1.02-.2 1.41-.59l7.78-7.78 2.81-2.81c.8-.78.8-2.07 0-2.86zM5.41 20L4 18.59l7.72-7.72 1.47 1.35L5.41 20z\"/>\n",
              "  </svg>\n",
              "      </button>\n",
              "      \n",
              "  <style>\n",
              "    .colab-df-container {\n",
              "      display:flex;\n",
              "      flex-wrap:wrap;\n",
              "      gap: 12px;\n",
              "    }\n",
              "\n",
              "    .colab-df-convert {\n",
              "      background-color: #E8F0FE;\n",
              "      border: none;\n",
              "      border-radius: 50%;\n",
              "      cursor: pointer;\n",
              "      display: none;\n",
              "      fill: #1967D2;\n",
              "      height: 32px;\n",
              "      padding: 0 0 0 0;\n",
              "      width: 32px;\n",
              "    }\n",
              "\n",
              "    .colab-df-convert:hover {\n",
              "      background-color: #E2EBFA;\n",
              "      box-shadow: 0px 1px 2px rgba(60, 64, 67, 0.3), 0px 1px 3px 1px rgba(60, 64, 67, 0.15);\n",
              "      fill: #174EA6;\n",
              "    }\n",
              "\n",
              "    [theme=dark] .colab-df-convert {\n",
              "      background-color: #3B4455;\n",
              "      fill: #D2E3FC;\n",
              "    }\n",
              "\n",
              "    [theme=dark] .colab-df-convert:hover {\n",
              "      background-color: #434B5C;\n",
              "      box-shadow: 0px 1px 3px 1px rgba(0, 0, 0, 0.15);\n",
              "      filter: drop-shadow(0px 1px 2px rgba(0, 0, 0, 0.3));\n",
              "      fill: #FFFFFF;\n",
              "    }\n",
              "  </style>\n",
              "\n",
              "      <script>\n",
              "        const buttonEl =\n",
              "          document.querySelector('#df-02d71bf0-cc40-4114-b0cf-81cd095ca67a button.colab-df-convert');\n",
              "        buttonEl.style.display =\n",
              "          google.colab.kernel.accessAllowed ? 'block' : 'none';\n",
              "\n",
              "        async function convertToInteractive(key) {\n",
              "          const element = document.querySelector('#df-02d71bf0-cc40-4114-b0cf-81cd095ca67a');\n",
              "          const dataTable =\n",
              "            await google.colab.kernel.invokeFunction('convertToInteractive',\n",
              "                                                     [key], {});\n",
              "          if (!dataTable) return;\n",
              "\n",
              "          const docLinkHtml = 'Like what you see? Visit the ' +\n",
              "            '<a target=\"_blank\" href=https://colab.research.google.com/notebooks/data_table.ipynb>data table notebook</a>'\n",
              "            + ' to learn more about interactive tables.';\n",
              "          element.innerHTML = '';\n",
              "          dataTable['output_type'] = 'display_data';\n",
              "          await google.colab.output.renderOutput(dataTable, element);\n",
              "          const docLink = document.createElement('div');\n",
              "          docLink.innerHTML = docLinkHtml;\n",
              "          element.appendChild(docLink);\n",
              "        }\n",
              "      </script>\n",
              "    </div>\n",
              "  </div>\n",
              "  "
            ]
          },
          "metadata": {},
          "execution_count": 22
        }
      ]
    },
    {
      "cell_type": "code",
      "source": [
        "# Plot spot intensity vs time\n",
        "\n",
        "import seaborn as sns\n",
        "from matplotlib import pyplot as plt\n",
        "\n",
        "ax = sns.lineplot(x=\"Time\",y=\"Growth_normalized\",hue=\"Cell_type\",data=growth_normalized_to_spots)\n",
        "plt.show()"
      ],
      "metadata": {
        "id": "8lw_fxpzPyv3",
        "colab": {
          "base_uri": "https://localhost:8080/",
          "height": 279
        },
        "outputId": "af7b1815-e6cb-4f32-c970-313c51bcfae4"
      },
      "execution_count": null,
      "outputs": [
        {
          "output_type": "display_data",
          "data": {
            "text/plain": [
              "<Figure size 432x288 with 1 Axes>"
            ],
            "image/png": "[encoded data removed]"
          },
          "metadata": {
            "needs_background": "light"
          }
        }
      ]
    },
    {
      "cell_type": "markdown",
      "source": [
        "Inspect time vs growth plot and identify the time to use for TOA identification"
      ],
      "metadata": {
        "id": "eCwZPBH0Qe9x"
      }
    },
    {
      "cell_type": "code",
      "source": [
        "# Calculate time of appearance\n",
        "#By looking at time vs growth graph select the pixel density threshold to which TOA will be calculated \n",
        "pixel_threshold = 15000\n",
        "time_of_appearance = sa.get_time_of_appearance(growth_normalized_to_spots,pixel_threshold)"
      ],
      "metadata": {
        "id": "3_MaM3qRPIFm"
      },
      "execution_count": null,
      "outputs": []
    },
    {
      "cell_type": "code",
      "source": [
        "time_of_appearance.head()"
      ],
      "metadata": {
        "colab": {
          "base_uri": "https://localhost:8080/",
          "height": 237
        },
        "id": "mG-16DtEaSCC",
        "outputId": "100031d4-2c10-47bd-ef0b-137097383f92"
      },
      "execution_count": null,
      "outputs": [
        {
          "output_type": "execute_result",
          "data": {
            "text/plain": [
              "         TOA Cell_type    Spot_loc\n",
              "Spot                              \n",
              "3A_0  2070.0        3A  135_231_17\n",
              "3A_1  1932.0        3A  177_795_17\n",
              "3A_2  1932.0        3A  562_507_19\n",
              "3A_3  1932.0        3A  730_246_19\n",
              "3A_4  1794.0        3A  745_440_21"
            ],
            "text/html": [
              "\n",
              "  <div id=\"df-3c9c1229-11ca-425c-9972-de98c6e2fce4\">\n",
              "    <div class=\"colab-df-container\">\n",
              "      <div>\n",
              "<style scoped>\n",
              "    .dataframe tbody tr th:only-of-type {\n",
              "        vertical-align: middle;\n",
              "    }\n",
              "\n",
              "    .dataframe tbody tr th {\n",
              "        vertical-align: top;\n",
              "    }\n",
              "\n",
              "    .dataframe thead th {\n",
              "        text-align: right;\n",
              "    }\n",
              "</style>\n",
              "<table border=\"1\" class=\"dataframe\">\n",
              "  <thead>\n",
              "    <tr style=\"text-align: right;\">\n",
              "      <th></th>\n",
              "      <th>TOA</th>\n",
              "      <th>Cell_type</th>\n",
              "      <th>Spot_loc</th>\n",
              "    </tr>\n",
              "    <tr>\n",
              "      <th>Spot</th>\n",
              "      <th></th>\n",
              "      <th></th>\n",
              "      <th></th>\n",
              "    </tr>\n",
              "  </thead>\n",
              "  <tbody>\n",
              "    <tr>\n",
              "      <th>3A_0</th>\n",
              "      <td>2070.0</td>\n",
              "      <td>3A</td>\n",
              "      <td>135_231_17</td>\n",
              "    </tr>\n",
              "    <tr>\n",
              "      <th>3A_1</th>\n",
              "      <td>1932.0</td>\n",
              "      <td>3A</td>\n",
              "      <td>177_795_17</td>\n",
              "    </tr>\n",
              "    <tr>\n",
              "      <th>3A_2</th>\n",
              "      <td>1932.0</td>\n",
              "      <td>3A</td>\n",
              "      <td>562_507_19</td>\n",
              "    </tr>\n",
              "    <tr>\n",
              "      <th>3A_3</th>\n",
              "      <td>1932.0</td>\n",
              "      <td>3A</td>\n",
              "      <td>730_246_19</td>\n",
              "    </tr>\n",
              "    <tr>\n",
              "      <th>3A_4</th>\n",
              "      <td>1794.0</td>\n",
              "      <td>3A</td>\n",
              "      <td>745_440_21</td>\n",
              "    </tr>\n",
              "  </tbody>\n",
              "</table>\n",
              "</div>\n",
              "      <button class=\"colab-df-convert\" onclick=\"convertToInteractive('df-3c9c1229-11ca-425c-9972-de98c6e2fce4')\"\n",
              "              title=\"Convert this dataframe to an interactive table.\"\n",
              "              style=\"display:none;\">\n",
              "        \n",
              "  <svg xmlns=\"http://www.w3.org/2000/svg\" height=\"24px\"viewBox=\"0 0 24 24\"\n",
              "       width=\"24px\">\n",
              "    <path d=\"M0 0h24v24H0V0z\" fill=\"none\"/>\n",
              "    <path d=\"M18.56 5.44l.94 2.06.94-2.06 2.06-.94-2.06-.94-.94-2.06-.94 2.06-2.06.94zm-11 1L8.5 8.5l.94-2.06 2.06-.94-2.06-.94L8.5 2.5l-.94 2.06-2.06.94zm10 10l.94 2.06.94-2.06 2.06-.94-2.06-.94-.94-2.06-.94 2.06-2.06.94z\"/><path d=\"M17.41 7.96l-1.37-1.37c-.4-.4-.92-.59-1.43-.59-.52 0-1.04.2-1.43.59L10.3 9.45l-7.72 7.72c-.78.78-.78 2.05 0 2.83L4 21.41c.39.39.9.59 1.41.59.51 0 1.02-.2 1.41-.59l7.78-7.78 2.81-2.81c.8-.78.8-2.07 0-2.86zM5.41 20L4 18.59l7.72-7.72 1.47 1.35L5.41 20z\"/>\n",
              "  </svg>\n",
              "      </button>\n",
              "      \n",
              "  <style>\n",
              "    .colab-df-container {\n",
              "      display:flex;\n",
              "      flex-wrap:wrap;\n",
              "      gap: 12px;\n",
              "    }\n",
              "\n",
              "    .colab-df-convert {\n",
              "      background-color: #E8F0FE;\n",
              "      border: none;\n",
              "      border-radius: 50%;\n",
              "      cursor: pointer;\n",
              "      display: none;\n",
              "      fill: #1967D2;\n",
              "      height: 32px;\n",
              "      padding: 0 0 0 0;\n",
              "      width: 32px;\n",
              "    }\n",
              "\n",
              "    .colab-df-convert:hover {\n",
              "      background-color: #E2EBFA;\n",
              "      box-shadow: 0px 1px 2px rgba(60, 64, 67, 0.3), 0px 1px 3px 1px rgba(60, 64, 67, 0.15);\n",
              "      fill: #174EA6;\n",
              "    }\n",
              "\n",
              "    [theme=dark] .colab-df-convert {\n",
              "      background-color: #3B4455;\n",
              "      fill: #D2E3FC;\n",
              "    }\n",
              "\n",
              "    [theme=dark] .colab-df-convert:hover {\n",
              "      background-color: #434B5C;\n",
              "      box-shadow: 0px 1px 3px 1px rgba(0, 0, 0, 0.15);\n",
              "      filter: drop-shadow(0px 1px 2px rgba(0, 0, 0, 0.3));\n",
              "      fill: #FFFFFF;\n",
              "    }\n",
              "  </style>\n",
              "\n",
              "      <script>\n",
              "        const buttonEl =\n",
              "          document.querySelector('#df-3c9c1229-11ca-425c-9972-de98c6e2fce4 button.colab-df-convert');\n",
              "        buttonEl.style.display =\n",
              "          google.colab.kernel.accessAllowed ? 'block' : 'none';\n",
              "\n",
              "        async function convertToInteractive(key) {\n",
              "          const element = document.querySelector('#df-3c9c1229-11ca-425c-9972-de98c6e2fce4');\n",
              "          const dataTable =\n",
              "            await google.colab.kernel.invokeFunction('convertToInteractive',\n",
              "                                                     [key], {});\n",
              "          if (!dataTable) return;\n",
              "\n",
              "          const docLinkHtml = 'Like what you see? Visit the ' +\n",
              "            '<a target=\"_blank\" href=https://colab.research.google.com/notebooks/data_table.ipynb>data table notebook</a>'\n",
              "            + ' to learn more about interactive tables.';\n",
              "          element.innerHTML = '';\n",
              "          dataTable['output_type'] = 'display_data';\n",
              "          await google.colab.output.renderOutput(dataTable, element);\n",
              "          const docLink = document.createElement('div');\n",
              "          docLink.innerHTML = docLinkHtml;\n",
              "          element.appendChild(docLink);\n",
              "        }\n",
              "      </script>\n",
              "    </div>\n",
              "  </div>\n",
              "  "
            ]
          },
          "metadata": {},
          "execution_count": 61
        }
      ]
    },
    {
      "cell_type": "code",
      "source": [
        "time_of_appearance.to_csv(output_dir+\"Time_of_appearance.csv\")"
      ],
      "metadata": {
        "id": "gWNFO7JDbciA"
      },
      "execution_count": null,
      "outputs": []
    },
    {
      "cell_type": "code",
      "source": [
        "# Plot TOA\n",
        "colors = [\"r\",\"b\",\"g\",\"y\",\"purple\",\"brown\"]\n",
        "sa.plot_toa_dist(time_of_appearance,plates_to_analyze,colors)"
      ],
      "metadata": {
        "id": "BY8_QlY77UUs",
        "colab": {
          "base_uri": "https://localhost:8080/",
          "height": 521
        },
        "outputId": "74d0115a-6133-43ca-9bd1-89c965ab2c4f"
      },
      "execution_count": null,
      "outputs": [
        {
          "output_type": "stream",
          "name": "stderr",
          "text": [
            "/usr/local/lib/python3.7/dist-packages/seaborn/distributions.py:2619: FutureWarning: `distplot` is a deprecated function and will be removed in a future version. Please adapt your code to use either `displot` (a figure-level function with similar flexibility) or `histplot` (an axes-level function for histograms).\n",
            "  warnings.warn(msg, FutureWarning)\n",
            "/usr/local/lib/python3.7/dist-packages/seaborn/distributions.py:2619: FutureWarning: `distplot` is a deprecated function and will be removed in a future version. Please adapt your code to use either `displot` (a figure-level function with similar flexibility) or `histplot` (an axes-level function for histograms).\n",
            "  warnings.warn(msg, FutureWarning)\n",
            "/usr/local/lib/python3.7/dist-packages/seaborn/distributions.py:2619: FutureWarning: `distplot` is a deprecated function and will be removed in a future version. Please adapt your code to use either `displot` (a figure-level function with similar flexibility) or `histplot` (an axes-level function for histograms).\n",
            "  warnings.warn(msg, FutureWarning)\n",
            "/usr/local/lib/python3.7/dist-packages/seaborn/distributions.py:2619: FutureWarning: `distplot` is a deprecated function and will be removed in a future version. Please adapt your code to use either `displot` (a figure-level function with similar flexibility) or `histplot` (an axes-level function for histograms).\n",
            "  warnings.warn(msg, FutureWarning)\n",
            "/usr/local/lib/python3.7/dist-packages/seaborn/distributions.py:2619: FutureWarning: `distplot` is a deprecated function and will be removed in a future version. Please adapt your code to use either `displot` (a figure-level function with similar flexibility) or `histplot` (an axes-level function for histograms).\n",
            "  warnings.warn(msg, FutureWarning)\n",
            "/usr/local/lib/python3.7/dist-packages/seaborn/distributions.py:2619: FutureWarning: `distplot` is a deprecated function and will be removed in a future version. Please adapt your code to use either `displot` (a figure-level function with similar flexibility) or `histplot` (an axes-level function for histograms).\n",
            "  warnings.warn(msg, FutureWarning)\n"
          ]
        },
        {
          "output_type": "display_data",
          "data": {
            "text/plain": [
              "<Figure size 432x288 with 1 Axes>"
            ],
            "image/png": "[encoded data removed]"
          },
          "metadata": {
            "needs_background": "light"
          }
        }
      ]
    }
  ]
}